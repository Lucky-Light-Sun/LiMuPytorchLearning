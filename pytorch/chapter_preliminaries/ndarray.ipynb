{
 "cells": [
  {
   "attachments": {},
   "cell_type": "markdown",
   "id": "ce571de3",
   "metadata": {
    "origin_pos": 0
   },
   "source": [
    "# 数据操作\n",
    ":label:`sec_ndarray`\n",
    "\n",
    "（1）获取数据；（2）对其进行处理。\n",
    "\n",
    "但深度学习框架又比Numpy的`ndarray`多一些重要功能：\n",
    "首先，GPU很好地支持加速计算，而NumPy仅支持CPU计算；\n",
    "其次，张量类支持自动微分。\n",
    "\n",
    "## 数据创建\n",
    "\n",
    "<div style=\"color:#b22222;font-weight:bold;font-size:20px\">注意reshape的坑点(位置不变)</div>"
   ]
  },
  {
   "cell_type": "code",
   "execution_count": 1,
   "id": "c576bdce",
   "metadata": {
    "execution": {
     "iopub.execute_input": "2022-12-07T16:28:00.300201Z",
     "iopub.status.busy": "2022-12-07T16:28:00.299529Z",
     "iopub.status.idle": "2022-12-07T16:28:01.537384Z",
     "shell.execute_reply": "2022-12-07T16:28:01.536531Z"
    },
    "origin_pos": 5,
    "tab": [
     "pytorch"
    ]
   },
   "outputs": [],
   "source": [
    "import torch\n",
    "\n",
    "x = torch.arange(12)\n",
    "x.shape\n",
    "x.numel()\n",
    "X = x.reshape(3, 4)\n",
    "\n",
    "x.reshape(-1,4)\n",
    "\n",
    "torch.zeros((2, 3, 4))\n",
    "torch.ones((2, 3, 4))\n",
    "\n",
    "torch.randn(3, 4)   # Norm(0, 1)\n",
    "\n",
    "torch.tensor([[2, 1, 4, 3], [1, 2, 3, 4], [4, 3, 2, 1]])"
   ]
  },
  {
   "cell_type": "code",
   "execution_count": 10,
   "id": "8672de59",
   "metadata": {},
   "outputs": [
    {
     "name": "stdout",
     "output_type": "stream",
     "text": [
      "tensor([[-0.6305, -1.1980, -0.2660, -0.8804],\n",
      "        [ 0.1669, -0.0928, -1.4251,  0.2015],\n",
      "        [-2.6675,  0.0560,  1.2649, -0.0496]])\n",
      "tensor([[ 1.0000e+02, -1.1980e+00, -2.6605e-01,  1.0000e+02],\n",
      "        [ 1.6691e-01, -9.2834e-02,  1.0000e+02,  2.0148e-01],\n",
      "        [-2.6675e+00,  1.0000e+02,  1.2649e+00, -4.9633e-02]])\n",
      "2168774190960 2168775352544\n",
      "2166991023776 2166991023776\n"
     ]
    }
   ],
   "source": [
    "x = torch.randn(3, 4)\n",
    "print(x)\n",
    "y = x.reshape(4, 3)\n",
    "y[:, 0] = 100\n",
    "print(x)        # 你会发现 x, y共用一个空间，但是 id 还是不同\n",
    "print(id(x), id(y))\n",
    "print(id(x[0, 0]), id(y[0, 0]))     # 内部元素的 id 还是相等的"
   ]
  },
  {
   "attachments": {},
   "cell_type": "markdown",
   "id": "766cea1f",
   "metadata": {
    "origin_pos": 47
   },
   "source": [
    "## 运算符\n",
    "\n",
    "最简单有用的操作是*按元素*（elementwise）运算。\n",
    "\n",
    "给定同一形状的任意两个向量$\\mathbf{u}$和$\\mathbf{v}$和二元运算符$f$，\n",
    "我们可以得到向量$\\mathbf{c} = F(\\mathbf{u},\\mathbf{v})$。\n",
    "具体计算方法是$c_i \\gets f(u_i, v_i)$，\n",
    "其中$c_i$、$u_i$和$v_i$分别是向量$\\mathbf{c}$、$\\mathbf{u}$和$\\mathbf{v}$中的元素。\n",
    "在这里，我们通过将标量函数升级为按元素向量运算来生成向量值\n",
    "$F: \\mathbb{R}^d, \\mathbb{R}^d \\rightarrow \\mathbb{R}^d$。\n",
    "\n",
    "对于任意具有相同形状的张量，\n",
    "[**常见的标准算术运算符（`+`、`-`、`*`、`/`和`**`）都可以被升级为按元素运算**]。\n",
    "我们可以在**同一形状**的任意两个张量上调用按元素操作。\n"
   ]
  },
  {
   "cell_type": "code",
   "execution_count": 10,
   "id": "ccf751ee",
   "metadata": {
    "execution": {
     "iopub.execute_input": "2022-12-07T16:28:01.619942Z",
     "iopub.status.busy": "2022-12-07T16:28:01.619317Z",
     "iopub.status.idle": "2022-12-07T16:28:01.627243Z",
     "shell.execute_reply": "2022-12-07T16:28:01.626521Z"
    },
    "origin_pos": 49,
    "tab": [
     "pytorch"
    ]
   },
   "outputs": [
    {
     "data": {
      "text/plain": [
       "(tensor([ 3.,  4.,  6., 10.]),\n",
       " tensor([-1.,  0.,  2.,  6.]),\n",
       " tensor([ 2.,  4.,  8., 16.]),\n",
       " tensor([0.5000, 1.0000, 2.0000, 4.0000]),\n",
       " tensor([ 1.,  4., 16., 64.]))"
      ]
     },
     "execution_count": 10,
     "metadata": {},
     "output_type": "execute_result"
    }
   ],
   "source": [
    "x = torch.tensor([1.0, 2, 4, 8])\n",
    "y = torch.tensor([2, 2, 2, 2])\n",
    "x + y, x - y, x * y, x / y, x ** y  # **运算符是求幂运算\n",
    "\n",
    "torch.exp(x)\n",
    "\n",
    "X = torch.arange(12, dtype=torch.float32).reshape((3,4))\n",
    "Y = torch.tensor([[2.0, 1, 4, 3], [1, 2, 3, 4], [4, 3, 2, 1]])\n",
    "torch.cat((X, Y), dim=0), torch.cat((X, Y), dim=1)\n",
    "\n",
    "X == Y\n",
    "X.sum()"
   ]
  },
  {
   "attachments": {},
   "cell_type": "markdown",
   "id": "ff6e6c02",
   "metadata": {
    "origin_pos": 67
   },
   "source": [
    "## 广播机制\n",
    ":label:`subsec_broadcasting`\n",
    "\n",
    "在上面的部分中，我们看到了如何在相同形状的两个张量上执行按元素操作。\n",
    "在某些情况下，[**即使形状不同，我们仍然可以通过调用\n",
    "*广播机制*（broadcasting mechanism）来执行按元素操作**]。\n",
    "\n",
    "1. 通过适当复制元素来扩展一个或两个数组，以便在转换之后，两个张量具有相同的形状；\n",
    "2. 对生成的数组执行按元素操作。\n",
    "\n",
    "参考 numpy 广播机制，可知广播的维度是从最后一维往前看的"
   ]
  },
  {
   "cell_type": "code",
   "execution_count": 7,
   "id": "f1a78cda",
   "metadata": {
    "execution": {
     "iopub.execute_input": "2022-12-07T16:28:01.666847Z",
     "iopub.status.busy": "2022-12-07T16:28:01.666215Z",
     "iopub.status.idle": "2022-12-07T16:28:01.671897Z",
     "shell.execute_reply": "2022-12-07T16:28:01.671182Z"
    },
    "origin_pos": 69,
    "tab": [
     "pytorch"
    ]
   },
   "outputs": [
    {
     "name": "stdout",
     "output_type": "stream",
     "text": [
      "tensor([[0],\n",
      "        [1],\n",
      "        [2]]) tensor([[0, 1]])\n"
     ]
    },
    {
     "data": {
      "text/plain": [
       "tensor([[0, 1],\n",
       "        [1, 2],\n",
       "        [2, 3]])"
      ]
     },
     "execution_count": 7,
     "metadata": {},
     "output_type": "execute_result"
    }
   ],
   "source": [
    "import torch\n",
    "a = torch.arange(3).reshape((3, 1))\n",
    "b = torch.arange(2).reshape((1, 2)) # 甚至 b = torch.arange(2).reshape((2)) 也是可行的, 但是 a reshape(3) 是不靠谱的\n",
    "print(a, b)\n",
    "a + b"
   ]
  },
  {
   "attachments": {},
   "cell_type": "markdown",
   "id": "e1c289ca",
   "metadata": {
    "origin_pos": 74
   },
   "source": [
    "## 索引和切片\n",
    "\n",
    "张量中的元素可以通过索引访问。\n",
    "与任何Python数组一样：第一个元素的索引是0，最后一个元素索引是-1；\n",
    "可以指定范围以包含第一个元素和最后一个之前的元素。\n"
   ]
  },
  {
   "cell_type": "code",
   "execution_count": 17,
   "id": "f3aa99c2",
   "metadata": {
    "execution": {
     "iopub.execute_input": "2022-12-07T16:28:01.683181Z",
     "iopub.status.busy": "2022-12-07T16:28:01.682528Z",
     "iopub.status.idle": "2022-12-07T16:28:01.688248Z",
     "shell.execute_reply": "2022-12-07T16:28:01.687556Z"
    },
    "origin_pos": 75,
    "tab": [
     "pytorch"
    ]
   },
   "outputs": [
    {
     "data": {
      "text/plain": [
       "(tensor([ 8.,  9., 10., 11.]),\n",
       " tensor([[ 4.,  5.,  6.,  7.],\n",
       "         [ 8.,  9., 10., 11.]]))"
      ]
     },
     "execution_count": 17,
     "metadata": {},
     "output_type": "execute_result"
    }
   ],
   "source": [
    "X[-1], X[1:3]\n",
    "X[1, 2] = 9\n",
    "X[0:2, :] = 12          # 区域赋值还是蛮有意思的"
   ]
  },
  {
   "cell_type": "markdown",
   "id": "f43fa16c",
   "metadata": {
    "origin_pos": 80
   },
   "source": [
    "如果我们想[**为多个元素赋值相同的值，我们只需要索引所有元素，然后为它们赋值。**]\n",
    "例如，`[0:2, :]`访问第1行和第2行，其中“:”代表沿轴1（列）的所有元素。\n",
    "虽然我们讨论的是矩阵的索引，但这也适用于向量和超过2个维度的张量。\n"
   ]
  },
  {
   "cell_type": "markdown",
   "id": "b1fea0db",
   "metadata": {
    "origin_pos": 83
   },
   "source": [
    "## 节省内存\n",
    "\n",
    "[**运行一些操作可能会导致为新结果分配内存**]。\n",
    "例如，如果我们用`Y = X + Y`，我们将取消引用`Y`指向的张量，而是指向新分配的内存处的张量。\n",
    "\n",
    "在下面的例子中，我们用Python的`id()`函数演示了这一点，\n",
    "它给我们提供了内存中引用对象的确切地址。\n",
    "运行`Y = Y + X`后，我们会发现`id(Y)`指向另一个位置。\n",
    "这是因为Python首先计算`Y + X`，为结果分配新的内存，然后使`Y`指向内存中的这个新位置。\n"
   ]
  },
  {
   "cell_type": "code",
   "execution_count": 20,
   "id": "3539c38d",
   "metadata": {
    "execution": {
     "iopub.execute_input": "2022-12-07T16:28:01.708652Z",
     "iopub.status.busy": "2022-12-07T16:28:01.707936Z",
     "iopub.status.idle": "2022-12-07T16:28:01.713553Z",
     "shell.execute_reply": "2022-12-07T16:28:01.712859Z"
    },
    "origin_pos": 84,
    "tab": [
     "pytorch"
    ]
   },
   "outputs": [
    {
     "data": {
      "text/plain": [
       "False"
      ]
     },
     "execution_count": 20,
     "metadata": {},
     "output_type": "execute_result"
    }
   ],
   "source": [
    "before = id(Y)\n",
    "Y = Y + X\n",
    "id(Y) == before"
   ]
  },
  {
   "cell_type": "markdown",
   "id": "60824ee7",
   "metadata": {
    "origin_pos": 85
   },
   "source": [
    "这可能是不可取的，原因有两个：\n",
    "\n",
    "1. 首先，我们不想总是不必要地分配内存。在机器学习中，我们可能有数百兆的参数，并且在一秒内多次更新所有参数。通常情况下，我们希望原地执行这些更新；\n",
    "2. 如果我们不原地更新，其他引用仍然会指向旧的内存位置，这样我们的某些代码可能会无意中引用旧的参数。\n"
   ]
  },
  {
   "cell_type": "markdown",
   "id": "10603b2d",
   "metadata": {
    "origin_pos": 86,
    "tab": [
     "pytorch"
    ]
   },
   "source": [
    "幸运的是，(**执行原地操作**)非常简单。\n",
    "我们可以使用切片表示法将操作的结果分配给先前分配的数组，例如`Y[:] = <expression>`。\n",
    "为了说明这一点，我们首先创建一个新的矩阵`Z`，其形状与另一个`Y`相同，\n",
    "使用`zeros_like`来分配一个全$0$的块。\n"
   ]
  },
  {
   "cell_type": "code",
   "execution_count": 21,
   "id": "9800284e",
   "metadata": {
    "execution": {
     "iopub.execute_input": "2022-12-07T16:28:01.717333Z",
     "iopub.status.busy": "2022-12-07T16:28:01.716751Z",
     "iopub.status.idle": "2022-12-07T16:28:01.721658Z",
     "shell.execute_reply": "2022-12-07T16:28:01.720936Z"
    },
    "origin_pos": 89,
    "tab": [
     "pytorch"
    ]
   },
   "outputs": [
    {
     "name": "stdout",
     "output_type": "stream",
     "text": [
      "id(Z): 139931132035296\n",
      "id(Z): 139931132035296\n"
     ]
    }
   ],
   "source": [
    "Z = torch.zeros_like(Y)\n",
    "print('id(Z):', id(Z))\n",
    "Z[:] = X + Y\n",
    "print('id(Z):', id(Z))"
   ]
  },
  {
   "cell_type": "markdown",
   "id": "21d1867d",
   "metadata": {
    "origin_pos": 92,
    "tab": [
     "pytorch"
    ]
   },
   "source": [
    "[**如果在后续计算中没有重复使用`X`，\n",
    "我们也可以使用`X[:] = X + Y`或`X += Y`来减少操作的内存开销。**]\n"
   ]
  },
  {
   "cell_type": "code",
   "execution_count": 22,
   "id": "118199c7",
   "metadata": {
    "execution": {
     "iopub.execute_input": "2022-12-07T16:28:01.725521Z",
     "iopub.status.busy": "2022-12-07T16:28:01.724748Z",
     "iopub.status.idle": "2022-12-07T16:28:01.730112Z",
     "shell.execute_reply": "2022-12-07T16:28:01.729349Z"
    },
    "origin_pos": 94,
    "tab": [
     "pytorch"
    ]
   },
   "outputs": [
    {
     "data": {
      "text/plain": [
       "True"
      ]
     },
     "execution_count": 22,
     "metadata": {},
     "output_type": "execute_result"
    }
   ],
   "source": [
    "before = id(X)\n",
    "X += Y\n",
    "id(X) == before"
   ]
  },
  {
   "cell_type": "markdown",
   "id": "a52e90a0",
   "metadata": {
    "origin_pos": 96
   },
   "source": [
    "## 转换为其他Python对象\n"
   ]
  },
  {
   "cell_type": "markdown",
   "id": "458d0cd9",
   "metadata": {
    "origin_pos": 98,
    "tab": [
     "pytorch"
    ]
   },
   "source": [
    "将深度学习框架定义的张量[**转换为NumPy张量（`ndarray`）**]很容易，反之也同样容易。\n",
    "torch张量和numpy数组将共享它们的底层内存，就地操作更改一个张量也会同时更改另一个张量。\n"
   ]
  },
  {
   "cell_type": "code",
   "execution_count": 23,
   "id": "4ae87f13",
   "metadata": {
    "execution": {
     "iopub.execute_input": "2022-12-07T16:28:01.734214Z",
     "iopub.status.busy": "2022-12-07T16:28:01.733587Z",
     "iopub.status.idle": "2022-12-07T16:28:01.739355Z",
     "shell.execute_reply": "2022-12-07T16:28:01.738447Z"
    },
    "origin_pos": 100,
    "tab": [
     "pytorch"
    ]
   },
   "outputs": [
    {
     "data": {
      "text/plain": [
       "(numpy.ndarray, torch.Tensor)"
      ]
     },
     "execution_count": 23,
     "metadata": {},
     "output_type": "execute_result"
    }
   ],
   "source": [
    "A = X.numpy()\n",
    "B = torch.tensor(A)\n",
    "type(A), type(B)"
   ]
  },
  {
   "cell_type": "markdown",
   "id": "c5a8be1e",
   "metadata": {
    "origin_pos": 103
   },
   "source": [
    "要(**将大小为1的张量转换为Python标量**)，我们可以调用`item`函数或Python的内置函数。\n"
   ]
  },
  {
   "cell_type": "code",
   "execution_count": 24,
   "id": "cf26d4aa",
   "metadata": {
    "execution": {
     "iopub.execute_input": "2022-12-07T16:28:01.742894Z",
     "iopub.status.busy": "2022-12-07T16:28:01.742318Z",
     "iopub.status.idle": "2022-12-07T16:28:01.748354Z",
     "shell.execute_reply": "2022-12-07T16:28:01.747641Z"
    },
    "origin_pos": 105,
    "tab": [
     "pytorch"
    ]
   },
   "outputs": [
    {
     "data": {
      "text/plain": [
       "(tensor([3.5000]), 3.5, 3.5, 3)"
      ]
     },
     "execution_count": 24,
     "metadata": {},
     "output_type": "execute_result"
    }
   ],
   "source": [
    "a = torch.tensor([3.5])\n",
    "a, a.item(), float(a), int(a)"
   ]
  },
  {
   "cell_type": "markdown",
   "id": "0f3b7eb0",
   "metadata": {
    "origin_pos": 108
   },
   "source": [
    "## 小结\n",
    "\n",
    "* 深度学习存储和操作数据的主要接口是张量（$n$维数组）。它提供了各种功能，包括基本数学运算、广播、索引、切片、内存节省和转换其他Python对象。\n",
    "\n",
    "## 练习\n",
    "\n",
    "1. 运行本节中的代码。将本节中的条件语句`X == Y`更改为`X < Y`或`X > Y`，然后看看你可以得到什么样的张量。\n",
    "1. 用其他形状（例如三维张量）替换广播机制中按元素操作的两个张量。结果是否与预期相同？\n"
   ]
  },
  {
   "cell_type": "markdown",
   "id": "f41e8f8f",
   "metadata": {
    "origin_pos": 110,
    "tab": [
     "pytorch"
    ]
   },
   "source": [
    "[Discussions](https://discuss.d2l.ai/t/1747)\n"
   ]
  }
 ],
 "metadata": {
  "kernelspec": {
   "display_name": "xyg_d2l",
   "language": "python",
   "name": "python3"
  },
  "language_info": {
   "codemirror_mode": {
    "name": "ipython",
    "version": 3
   },
   "file_extension": ".py",
   "mimetype": "text/x-python",
   "name": "python",
   "nbconvert_exporter": "python",
   "pygments_lexer": "ipython3",
   "version": "3.8.15 | packaged by conda-forge | (default, Nov 22 2022, 08:42:03) [MSC v.1929 64 bit (AMD64)]"
  },
  "vscode": {
   "interpreter": {
    "hash": "294c6addf2e57b2852ec61f7f90faa9a02303738d9966848da73ee5b27681ddf"
   }
  }
 },
 "nbformat": 4,
 "nbformat_minor": 5
}
