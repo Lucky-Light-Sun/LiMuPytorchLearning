{
 "cells": [
  {
   "attachments": {},
   "cell_type": "markdown",
   "id": "8d84c967",
   "metadata": {
    "origin_pos": 0
   },
   "source": [
    "#  预备知识\n",
    ":label:`chap_preliminaries`\n",
    "\n",
    "要学习深度学习，首先学习一些关于数据的实用技能，包括存储、操作和预处理数据。\n",
    "\n",
    "我们可以将某些数据集视为一个表，其中表的行对应样本，列对应属性。\n",
    "线性代数为人们提供了一些用来处理表格数据的方法。\n",
    "我们不会太深究细节，而是将重点放在**矩阵运算**的基本原理及其实现上。\n",
    "\n",
    "深度学习是关于优化的学习。\n",
    "对于一个带有参数的模型，我们想要找到其中能拟合数据的最好模型。\n",
    "在算法的每个步骤中，决定以何种方式调整参数需要一点**微积分**知识。\n",
    "本章将简要介绍这些知识。\n",
    "幸运的是，`autograd`包会自动计算微分，本章也将介绍它。\n",
    "\n",
    "机器学习还涉及如何做出预测：给定观察到的信息，某些未知属性可能的值是多少？\n",
    "要在不确定的情况下进行严格的推断，我们需要借用**概率语言**。\n",
    "\n",
    "最后，官方文档提供了本书之外的大量描述和示例。\n",
    "在本章的结尾，我们将展示如何在官方文档中查找所需信息。\n",
    "\n",
    ":begin_tab:toc\n",
    " - [ndarray](ndarray.ipynb)\n",
    " - [pandas](pandas.ipynb)\n",
    " - [linear-algebra](linear-algebra.ipynb)\n",
    " - [calculus](calculus.ipynb)\n",
    " - [autograd](autograd.ipynb)\n",
    " - [probability](probability.ipynb)\n",
    " - [lookup-api](lookup-api.ipynb)\n",
    ":end_tab:\n"
   ]
  }
 ],
 "metadata": {
  "kernelspec": {
   "display_name": "xyg_d2l",
   "language": "python",
   "name": "python3"
  },
  "language_info": {
   "name": "python",
   "version": "3.8.15 | packaged by conda-forge | (default, Nov 22 2022, 08:42:03) [MSC v.1929 64 bit (AMD64)]"
  },
  "vscode": {
   "interpreter": {
    "hash": "294c6addf2e57b2852ec61f7f90faa9a02303738d9966848da73ee5b27681ddf"
   }
  }
 },
 "nbformat": 4,
 "nbformat_minor": 5
}
